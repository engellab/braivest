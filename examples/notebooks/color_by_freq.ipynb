{
 "cells": [
  {
   "cell_type": "code",
   "execution_count": null,
   "metadata": {},
   "outputs": [],
   "source": [
    "from braivest.analysis.wandb_utils import load_wandb_model\n",
    "from braivest.utils import load_data\n",
    "from braivest.model.emgVAE import emgVAE\n",
    "from braivest.preprocess.dataset_utils import bin_data\n",
    "from braivest.analysis.plotting_utils import *\n",
    "import plotly.express as px\n",
    "import wandb\n",
    "import tensorflow as tf\n",
    "import matplotlib.pyplot as plt\n",
    "import numpy as np\n",
    "\n",
    "from scipy.signal import welch\n",
    "from scipy.stats import zscore\n"
   ]
  },
  {
   "cell_type": "code",
   "execution_count": null,
   "metadata": {},
   "outputs": [],
   "source": [
    "with wandb.init(project=\"braivest_tutorial\", job_type=\"download\") as run:\n",
    "    raw_artifact = run.use_artifact(\"raw_data:v0\")\n",
    "    raw_artifact_dir = raw_artifact.download()\n",
    "lfp = load_data(raw_artifact_dir, \"lfp_session{}.npy\".format(0), allow_pickle=True)\n",
    "binned_lfp = bin_data(lfp, original_sample=1000, sampling_rate=0.5)"
   ]
  },
  {
   "cell_type": "code",
   "execution_count": null,
   "metadata": {},
   "outputs": [],
   "source": [
    "with wandb.init(project=\"braivest_tutorial\", job_type=\"download\") as run:\n",
    "    artifact = run.use_artifact(\"analysis_set:v0\")\n",
    "    artifact_dir = artifact.download()\n",
    "subject0_sess = load_data(artifact_dir, 'sess_datas.npy', allow_pickle=True)"
   ]
  },
  {
   "cell_type": "code",
   "execution_count": null,
   "metadata": {},
   "outputs": [],
   "source": [
    "model = load_wandb_model(\"juliahwang/lfp_VAE/v2l9tltt\", 31)\n",
    "encodings = tf.convert_to_tensor(model.encode(subject0_sess[0])).numpy()"
   ]
  },
  {
   "cell_type": "code",
   "execution_count": null,
   "metadata": {},
   "outputs": [],
   "source": [
    "f, Pxx = welch(binned_lfp, fs=1000)"
   ]
  },
  {
   "cell_type": "code",
   "execution_count": null,
   "metadata": {},
   "outputs": [],
   "source": [
    "# Let's see what frequencies there are:\n",
    "f"
   ]
  },
  {
   "cell_type": "code",
   "execution_count": null,
   "metadata": {},
   "outputs": [],
   "source": [
    "BAND = 'delta' #change this manually\n",
    "bands = {'delta': (0, 2), 'theta': (2, 4), 'beta': (4, 8), 'gamma': (8, 13)}\n",
    "start, stop = bands[BAND]\n",
    "color = get_feature_color(Pxx, f, start, stop)\n",
    "fig = plot_encodings(encodings, color=color, x_range = (-6, 3), scatter_kwargs={'color_continuous_scale': 'portland', 'range_color': (-3, 3)})\n",
    "fig.show()"
   ]
  }
 ],
 "metadata": {
  "kernelspec": {
   "display_name": "Python 3.9.12 ('bs2': conda)",
   "language": "python",
   "name": "python3"
  },
  "language_info": {
   "codemirror_mode": {
    "name": "ipython",
    "version": 3
   },
   "file_extension": ".py",
   "mimetype": "text/x-python",
   "name": "python",
   "nbconvert_exporter": "python",
   "pygments_lexer": "ipython3",
   "version": "3.9.12"
  },
  "orig_nbformat": 4,
  "vscode": {
   "interpreter": {
    "hash": "c07403437f230df02b8cc610fa460d9d4449cdd9b5c8c476e92391ae778a8523"
   }
  }
 },
 "nbformat": 4,
 "nbformat_minor": 2
}
